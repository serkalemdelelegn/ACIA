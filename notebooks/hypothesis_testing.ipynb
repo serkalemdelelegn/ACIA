{
 "cells": [
  {
   "cell_type": "markdown",
   "metadata": {},
   "source": [
    "# **A/B - Hypothesis Testing**"
   ]
  },
  {
   "cell_type": "markdown",
   "metadata": {},
   "source": [
    "## Overview\n",
    "\n",
    "This notebook covers two key methodologies for enhancing insurance offerings: **A/B Testing** and **Hypothesis Testing**.\n",
    "\n",
    "## A/B Testing\n",
    "\n",
    "A/B Testing compares different insurance offerings or marketing strategies to evaluate their impact on:\n",
    "\n",
    "- **Customer Engagement**\n",
    "- **Policy Uptake**\n",
    "\n",
    "### Example\n",
    "\n",
    "- Testing two marketing campaigns to identify which leads to more sign-ups.\n",
    "\n",
    "## Hypothesis Testing\n",
    "\n",
    "Hypothesis Testing validates assumptions about factors influencing claims and premiums, focusing on:\n",
    "\n",
    "- **Formulating Hypotheses**: Making statements about influences (e.g., regional preferences).\n",
    "- **Testing Hypotheses**: Analyzing data to support or refute these statements.\n",
    "\n",
    "### Example\n",
    "\n",
    "- Investigating if policyholder age impacts claim frequency.\n"
   ]
  },
  {
   "cell_type": "code",
   "execution_count": 2,
   "metadata": {},
   "outputs": [],
   "source": [
    "# Import libraries\n",
    "import pandas as pd\n",
    "import numpy as np\n",
    "import seaborn as sns\n",
    "import matplotlib.pyplot as plt\n",
    "import scipy.stats as stats\n",
    "import os, sys\n",
    "\n",
    "# Add the 'scripts' directory to the Python path for module imports\n",
    "sys.path.append(os.path.abspath(os.path.join('..', 'scripts')))"
   ]
  },
  {
   "cell_type": "code",
   "execution_count": 6,
   "metadata": {},
   "outputs": [
    {
     "name": "stdout",
     "output_type": "stream",
     "text": [
      "✅Dataset loaded successfully. Here are the first few rows:\n",
      "   UnderwrittenCoverID  PolicyID     TransactionMonth  IsVATRegistered  \\\n",
      "0               145249     12827  2015-03-01 00:00:00             True   \n",
      "1               145249     12827  2015-05-01 00:00:00             True   \n",
      "2               145249     12827  2015-07-01 00:00:00             True   \n",
      "3               145255     12827  2015-05-01 00:00:00             True   \n",
      "4               145255     12827  2015-07-01 00:00:00             True   \n",
      "\n",
      "  Citizenship          LegalType Title Language                 Bank  \\\n",
      "0              Close Corporation    Mr  English  First National Bank   \n",
      "1              Close Corporation    Mr  English  First National Bank   \n",
      "2              Close Corporation    Mr  English  First National Bank   \n",
      "3              Close Corporation    Mr  English  First National Bank   \n",
      "4              Close Corporation    Mr  English  First National Bank   \n",
      "\n",
      "       AccountType  ...                    ExcessSelected CoverCategory  \\\n",
      "0  Current account  ...             Mobility - Windscreen    Windscreen   \n",
      "1  Current account  ...             Mobility - Windscreen    Windscreen   \n",
      "2  Current account  ...             Mobility - Windscreen    Windscreen   \n",
      "3  Current account  ...  Mobility - Metered Taxis - R2000    Own damage   \n",
      "4  Current account  ...  Mobility - Metered Taxis - R2000    Own damage   \n",
      "\n",
      "    CoverType            CoverGroup              Section  \\\n",
      "0  Windscreen  Comprehensive - Taxi  Motor Comprehensive   \n",
      "1  Windscreen  Comprehensive - Taxi  Motor Comprehensive   \n",
      "2  Windscreen  Comprehensive - Taxi  Motor Comprehensive   \n",
      "3  Own Damage  Comprehensive - Taxi  Motor Comprehensive   \n",
      "4  Own Damage  Comprehensive - Taxi  Motor Comprehensive   \n",
      "\n",
      "                           Product StatutoryClass StatutoryRiskType  \\\n",
      "0  Mobility Metered Taxis: Monthly     Commercial     IFRS Constant   \n",
      "1  Mobility Metered Taxis: Monthly     Commercial     IFRS Constant   \n",
      "2  Mobility Metered Taxis: Monthly     Commercial     IFRS Constant   \n",
      "3  Mobility Metered Taxis: Monthly     Commercial     IFRS Constant   \n",
      "4  Mobility Metered Taxis: Monthly     Commercial     IFRS Constant   \n",
      "\n",
      "   TotalPremium TotalClaims  \n",
      "0     21.929825         0.0  \n",
      "1     21.929825         0.0  \n",
      "2      0.000000         0.0  \n",
      "3    512.848070         0.0  \n",
      "4      0.000000         0.0  \n",
      "\n",
      "[5 rows x 46 columns]\n"
     ]
    }
   ],
   "source": [
    "# Read the dataset\n",
    "df = pd.read_csv('../data/processeddata/cleaned_data.csv', low_memory=False, index_col=False)\n",
    "\n",
    "# Print the first few rows of the dataframe to confirm successful loading\n",
    "print(\"✅Dataset loaded successfully. Here are the first few rows:\")\n",
    "print(df.head())"
   ]
  },
  {
   "cell_type": "code",
   "execution_count": 7,
   "metadata": {},
   "outputs": [
    {
     "name": "stdout",
     "output_type": "stream",
     "text": [
      "--- Risk Differences Across Provinces ---\n",
      "Chi-squared test on Province and TotalPremium: chi2 = 2491500.912683971, p-value = 0.0\n",
      "Reject the null hypothesis.\n",
      "\n",
      "--- Risk Differences Between Postal Codes ---\n",
      "Chi-squared test on PostalCode and TotalPremium: chi2 = 224052676.14292973, p-value = 0.0\n",
      "Reject the null hypothesis.\n",
      "\n",
      "--- Margin Differences Between Postal Codes ---\n",
      "Z-test on TotalPremium: Z-statistic = -0.4370784074657527, p-value = 0.6620544861020186\n",
      "Fail to reject the null hypothesis.\n",
      "\n",
      "--- Risk Differences Between Women and Men ---\n",
      "T-test on TotalPremium: T-statistic = -5.118420932688848, p-value = 3.0925282750010697e-07\n",
      "Reject the null hypothesis.\n",
      "\n"
     ]
    }
   ],
   "source": [
    "# Initialize the class\n",
    "from hypothesis_testing import ABHypothesisTesting\n",
    "\n",
    "# Create an instance of the ABHypothesisTesting class with the dataset\n",
    "ab_test = ABHypothesisTesting(df)\n",
    "\n",
    "# Run all tests and store the results\n",
    "results = ab_test.run_all_tests()\n",
    "\n",
    "# Print results in a human-readable format\n",
    "for test_name, result in results.items():\n",
    "    print(f'--- {test_name} ---')\n",
    "    print(result)\n",
    "    print()  # Print a newline for better readability"
   ]
  }
 ],
 "metadata": {
  "kernelspec": {
   "display_name": "alpha_insurance_env",
   "language": "python",
   "name": "python3"
  },
  "language_info": {
   "codemirror_mode": {
    "name": "ipython",
    "version": 3
   },
   "file_extension": ".py",
   "mimetype": "text/x-python",
   "name": "python",
   "nbconvert_exporter": "python",
   "pygments_lexer": "ipython3",
   "version": "3.12.8"
  }
 },
 "nbformat": 4,
 "nbformat_minor": 2
}
